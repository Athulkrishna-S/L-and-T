{
  "nbformat": 4,
  "nbformat_minor": 0,
  "metadata": {
    "colab": {
      "provenance": [],
      "mount_file_id": "1NxgdEidQK4wTQA6Q95VUWu_yzSccJaQs",
      "authorship_tag": "ABX9TyOErEGtrBD2NQu9D7C+d+/J",
      "include_colab_link": true
    },
    "kernelspec": {
      "name": "python3",
      "display_name": "Python 3"
    },
    "language_info": {
      "name": "python"
    }
  },
  "cells": [
    {
      "cell_type": "markdown",
      "metadata": {
        "id": "view-in-github",
        "colab_type": "text"
      },
      "source": [
        "<a href=\"https://colab.research.google.com/github/Athulkrishna-S/L-and-T/blob/main/spam_email_detection.ipynb\" target=\"_parent\"><img src=\"https://colab.research.google.com/assets/colab-badge.svg\" alt=\"Open In Colab\"/></a>"
      ]
    },
    {
      "cell_type": "code",
      "execution_count": 6,
      "metadata": {
        "id": "wwGy9f4n9uyb"
      },
      "outputs": [],
      "source": [
        "import pandas as pd\n",
        "from sklearn.model_selection import train_test_split\n",
        "from sklearn.feature_extraction.text import TfidfVectorizer\n",
        "from sklearn.svm import SVC\n",
        "from sklearn.naive_bayes import MultinomialNB\n",
        "from sklearn.linear_model import LogisticRegression\n",
        "from sklearn.metrics import classification_report"
      ]
    },
    {
      "cell_type": "code",
      "source": [
        "# Load the dataset\n",
        "df = pd.read_csv('emails.csv')\n",
        "\n",
        "# Display the first few rows\n",
        "print(df.head())"
      ],
      "metadata": {
        "colab": {
          "base_uri": "https://localhost:8080/"
        },
        "id": "OiNv1RPCVfhE",
        "outputId": "61f9cfc3-20ae-4f1b-8470-b3c2f71fe853"
      },
      "execution_count": 4,
      "outputs": [
        {
          "output_type": "stream",
          "name": "stdout",
          "text": [
            "                                                text  spam\n",
            "0  Subject: naturally irresistible your corporate...     1\n",
            "1  Subject: the stock trading gunslinger  fanny i...     1\n",
            "2  Subject: unbelievable new homes made easy  im ...     1\n",
            "3  Subject: 4 color printing special  request add...     1\n",
            "4  Subject: do not have money , get software cds ...     1\n"
          ]
        }
      ]
    },
    {
      "cell_type": "code",
      "source": [
        "# Check for missing values\n",
        "print(df.isnull().sum())"
      ],
      "metadata": {
        "colab": {
          "base_uri": "https://localhost:8080/"
        },
        "id": "MTh141ZBWRWm",
        "outputId": "14678358-7708-4bce-e9c6-f2d63bc5c5bc"
      },
      "execution_count": 4,
      "outputs": [
        {
          "output_type": "stream",
          "name": "stdout",
          "text": [
            "text    0\n",
            "spam    0\n",
            "dtype: int64\n"
          ]
        }
      ]
    },
    {
      "cell_type": "code",
      "source": [
        "df = df.rename(columns={'spam': 'label'})"
      ],
      "metadata": {
        "id": "gR0YOl78WrCk"
      },
      "execution_count": 7,
      "outputs": []
    },
    {
      "cell_type": "code",
      "source": [
        "print(df.head())"
      ],
      "metadata": {
        "colab": {
          "base_uri": "https://localhost:8080/"
        },
        "id": "utPSDxqIYIWN",
        "outputId": "c18c5bc0-2d6d-45f2-c28d-8dab8de6e81a"
      },
      "execution_count": null,
      "outputs": [
        {
          "output_type": "stream",
          "name": "stdout",
          "text": [
            "                                                text  label\n",
            "0  Subject: naturally irresistible your corporate...      1\n",
            "1  Subject: the stock trading gunslinger  fanny i...      1\n",
            "2  Subject: unbelievable new homes made easy  im ...      1\n",
            "3  Subject: 4 color printing special  request add...      1\n",
            "4  Subject: do not have money , get software cds ...      1\n"
          ]
        }
      ]
    },
    {
      "cell_type": "code",
      "source": [
        "X_train, X_test, y_train, y_test = train_test_split(df['text'], df['label'], test_size=0.2, random_state=42)"
      ],
      "metadata": {
        "id": "NpGPWOnbYNP4"
      },
      "execution_count": 8,
      "outputs": []
    },
    {
      "cell_type": "code",
      "source": [
        "# vectorize the text part\n",
        "vectorizer = TfidfVectorizer(stop_words='english', max_df=0.7)\n",
        "X_train_tfidf = vectorizer.fit_transform(X_train)\n",
        "X_test_tfidf = vectorizer.transform(X_test)"
      ],
      "metadata": {
        "id": "W11pXPzwYT3Z"
      },
      "execution_count": 9,
      "outputs": []
    },
    {
      "cell_type": "code",
      "source": [
        "X_train_dense = X_train_tfidf.toarray()\n",
        "feature_names = vectorizer.get_feature_names_out()\n",
        "df_tfidf = pd.DataFrame(X_train_dense, columns=feature_names)\n",
        "print(df_tfidf)"
      ],
      "metadata": {
        "colab": {
          "base_uri": "https://localhost:8080/"
        },
        "id": "LHgj8WyxYafT",
        "outputId": "8d80872f-0777-42f9-f58a-0a867eb0c2d6",
        "collapsed": true
      },
      "execution_count": 10,
      "outputs": [
        {
          "output_type": "stream",
          "name": "stdout",
          "text": [
            "            00  000  0000  000000  00000000  0000000000  000000000003619  \\\n",
            "0     0.000000  0.0   0.0     0.0       0.0         0.0              0.0   \n",
            "1     0.000000  0.0   0.0     0.0       0.0         0.0              0.0   \n",
            "2     0.000000  0.0   0.0     0.0       0.0         0.0              0.0   \n",
            "3     0.000000  0.0   0.0     0.0       0.0         0.0              0.0   \n",
            "4     0.130672  0.0   0.0     0.0       0.0         0.0              0.0   \n",
            "...        ...  ...   ...     ...       ...         ...              ...   \n",
            "4577  0.000000  0.0   0.0     0.0       0.0         0.0              0.0   \n",
            "4578  0.000000  0.0   0.0     0.0       0.0         0.0              0.0   \n",
            "4579  0.000000  0.0   0.0     0.0       0.0         0.0              0.0   \n",
            "4580  0.000000  0.0   0.0     0.0       0.0         0.0              0.0   \n",
            "4581  0.000000  0.0   0.0     0.0       0.0         0.0              0.0   \n",
            "\n",
            "      000000000003991  000000000003997  000000000005168  ...  zwwyw  zwzm  \\\n",
            "0                 0.0              0.0              0.0  ...    0.0   0.0   \n",
            "1                 0.0              0.0              0.0  ...    0.0   0.0   \n",
            "2                 0.0              0.0              0.0  ...    0.0   0.0   \n",
            "3                 0.0              0.0              0.0  ...    0.0   0.0   \n",
            "4                 0.0              0.0              0.0  ...    0.0   0.0   \n",
            "...               ...              ...              ...  ...    ...   ...   \n",
            "4577              0.0              0.0              0.0  ...    0.0   0.0   \n",
            "4578              0.0              0.0              0.0  ...    0.0   0.0   \n",
            "4579              0.0              0.0              0.0  ...    0.0   0.0   \n",
            "4580              0.0              0.0              0.0  ...    0.0   0.0   \n",
            "4581              0.0              0.0              0.0  ...    0.0   0.0   \n",
            "\n",
            "      zxghlajf  zyban  zyc  zygoma  zymg  zzn  zzncacst  zzzz  \n",
            "0          0.0    0.0  0.0     0.0   0.0  0.0       0.0   0.0  \n",
            "1          0.0    0.0  0.0     0.0   0.0  0.0       0.0   0.0  \n",
            "2          0.0    0.0  0.0     0.0   0.0  0.0       0.0   0.0  \n",
            "3          0.0    0.0  0.0     0.0   0.0  0.0       0.0   0.0  \n",
            "4          0.0    0.0  0.0     0.0   0.0  0.0       0.0   0.0  \n",
            "...        ...    ...  ...     ...   ...  ...       ...   ...  \n",
            "4577       0.0    0.0  0.0     0.0   0.0  0.0       0.0   0.0  \n",
            "4578       0.0    0.0  0.0     0.0   0.0  0.0       0.0   0.0  \n",
            "4579       0.0    0.0  0.0     0.0   0.0  0.0       0.0   0.0  \n",
            "4580       0.0    0.0  0.0     0.0   0.0  0.0       0.0   0.0  \n",
            "4581       0.0    0.0  0.0     0.0   0.0  0.0       0.0   0.0  \n",
            "\n",
            "[4582 rows x 33484 columns]\n"
          ]
        }
      ]
    },
    {
      "cell_type": "markdown",
      "source": [
        "**SVM LINEAR KERNEL**"
      ],
      "metadata": {
        "id": "nrstOdzPINDv"
      }
    },
    {
      "cell_type": "code",
      "source": [
        "svm_linear = SVC(kernel='linear')\n",
        "svm_linear.fit(X_train_tfidf, y_train)\n",
        "y_pred_linear = svm_linear.predict(X_test_tfidf)\n",
        "print(\"SVM Linear Kernel Classification Report:\")\n",
        "print(classification_report(y_test, y_pred_linear))"
      ],
      "metadata": {
        "colab": {
          "base_uri": "https://localhost:8080/"
        },
        "id": "VoYQn2dKILn_",
        "outputId": "0b107f95-392b-4f99-8476-343e62ab9078"
      },
      "execution_count": 11,
      "outputs": [
        {
          "output_type": "stream",
          "name": "stdout",
          "text": [
            "SVM Linear Kernel Classification Report:\n",
            "              precision    recall  f1-score   support\n",
            "\n",
            "           0       0.99      1.00      0.99       856\n",
            "           1       0.99      0.98      0.98       290\n",
            "\n",
            "    accuracy                           0.99      1146\n",
            "   macro avg       0.99      0.99      0.99      1146\n",
            "weighted avg       0.99      0.99      0.99      1146\n",
            "\n"
          ]
        }
      ]
    },
    {
      "cell_type": "markdown",
      "source": [
        "**RBF Kernel**"
      ],
      "metadata": {
        "id": "gtbdEA4KLfyh"
      }
    },
    {
      "cell_type": "code",
      "source": [
        "svm_rbf = SVC(kernel='rbf')\n",
        "svm_rbf.fit(X_train_tfidf, y_train)\n",
        "y_pred_rbf = svm_rbf.predict(X_test_tfidf)\n",
        "print(\"SVM RBF Kernel Classification Report:\")\n",
        "print(classification_report(y_test, y_pred_rbf))"
      ],
      "metadata": {
        "colab": {
          "base_uri": "https://localhost:8080/"
        },
        "id": "McbnqopKLe-x",
        "outputId": "a78c8317-c0dc-48e3-f624-413a7bacfce9"
      },
      "execution_count": 12,
      "outputs": [
        {
          "output_type": "stream",
          "name": "stdout",
          "text": [
            "SVM RBF Kernel Classification Report:\n",
            "              precision    recall  f1-score   support\n",
            "\n",
            "           0       0.99      1.00      0.99       856\n",
            "           1       0.99      0.97      0.98       290\n",
            "\n",
            "    accuracy                           0.99      1146\n",
            "   macro avg       0.99      0.98      0.99      1146\n",
            "weighted avg       0.99      0.99      0.99      1146\n",
            "\n"
          ]
        }
      ]
    },
    {
      "cell_type": "markdown",
      "source": [
        "**Naive Bayes**"
      ],
      "metadata": {
        "id": "zgfgpHG8f98j"
      }
    },
    {
      "cell_type": "code",
      "source": [
        "nb_model = MultinomialNB()\n",
        "nb_model.fit(X_train_tfidf, y_train)\n",
        "y_pred_nb = nb_model.predict(X_test_tfidf)\n",
        "print(\"Naive Bayes Classification Report:\")\n",
        "print(classification_report(y_test, y_pred_nb))"
      ],
      "metadata": {
        "colab": {
          "base_uri": "https://localhost:8080/"
        },
        "id": "ckIRiwe_f8aG",
        "outputId": "b7c34e9b-a0a5-4a87-a027-a970c828c093"
      },
      "execution_count": 13,
      "outputs": [
        {
          "output_type": "stream",
          "name": "stdout",
          "text": [
            "Naive Bayes Classification Report:\n",
            "              precision    recall  f1-score   support\n",
            "\n",
            "           0       0.87      1.00      0.93       856\n",
            "           1       1.00      0.58      0.73       290\n",
            "\n",
            "    accuracy                           0.89      1146\n",
            "   macro avg       0.94      0.79      0.83      1146\n",
            "weighted avg       0.91      0.89      0.88      1146\n",
            "\n"
          ]
        }
      ]
    },
    {
      "cell_type": "code",
      "source": [
        "import pickle\n",
        "\n",
        "# Save the Linear SVM model\n",
        "with open('svm_linear_model.pkl', 'wb') as file:\n",
        "    pickle.dump(svm_linear, file)\n",
        "\n",
        "# Save the RBF SVM model\n",
        "with open('svm_rbf_model.pkl', 'wb') as file:\n",
        "    pickle.dump(svm_rbf, file)\n",
        "\n",
        "# Save the Naive Bayes model\n",
        "with open('naive_bayes_model.pkl', 'wb') as file:\n",
        "    pickle.dump(nb_model, file)\n"
      ],
      "metadata": {
        "id": "FTPOtOKvmcBl"
      },
      "execution_count": 14,
      "outputs": []
    }
  ]
}